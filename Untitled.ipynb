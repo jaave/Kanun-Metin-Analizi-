{
 "cells": [
  {
   "cell_type": "code",
   "execution_count": null,
   "id": "65846212-308f-443c-9ea1-51e3df5c969f",
   "metadata": {},
   "outputs": [],
   "source": []
  }
 ],
 "metadata": {
  "kernelspec": {
   "display_name": "",
   "name": ""
  },
  "language_info": {
   "name": ""
  }
 },
 "nbformat": 4,
 "nbformat_minor": 5
}
